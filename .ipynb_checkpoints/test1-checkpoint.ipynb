{
 "cells": [
  {
   "cell_type": "code",
   "execution_count": 1,
   "metadata": {},
   "outputs": [],
   "source": [
    "import pandas as pd\n",
    "import seaborn as sns\n",
    "import numpy as np"
   ]
  },
  {
   "cell_type": "code",
   "execution_count": 2,
   "metadata": {},
   "outputs": [],
   "source": [
    "csv_path='Resources/passing_stats.csv'"
   ]
  },
  {
   "cell_type": "code",
   "execution_count": 3,
   "metadata": {},
   "outputs": [],
   "source": [
    "passing_df=pd.read_csv(csv_path)"
   ]
  },
  {
   "cell_type": "code",
   "execution_count": 4,
   "metadata": {},
   "outputs": [
    {
     "data": {
      "text/html": [
       "<div>\n",
       "<style scoped>\n",
       "    .dataframe tbody tr th:only-of-type {\n",
       "        vertical-align: middle;\n",
       "    }\n",
       "\n",
       "    .dataframe tbody tr th {\n",
       "        vertical-align: top;\n",
       "    }\n",
       "\n",
       "    .dataframe thead th {\n",
       "        text-align: right;\n",
       "    }\n",
       "</style>\n",
       "<table border=\"1\" class=\"dataframe\">\n",
       "  <thead>\n",
       "    <tr style=\"text-align: right;\">\n",
       "      <th></th>\n",
       "      <th>Unnamed: 0</th>\n",
       "      <th>rank</th>\n",
       "      <th>name</th>\n",
       "      <th>teams</th>\n",
       "      <th>wins</th>\n",
       "      <th>ages</th>\n",
       "      <th>games</th>\n",
       "      <th>completed</th>\n",
       "      <th>att</th>\n",
       "      <th>yards</th>\n",
       "      <th>touchdowns</th>\n",
       "      <th>first_downs</th>\n",
       "      <th>sacks</th>\n",
       "      <th>season</th>\n",
       "    </tr>\n",
       "  </thead>\n",
       "  <tbody>\n",
       "    <tr>\n",
       "      <th>0</th>\n",
       "      <td>0</td>\n",
       "      <td>1</td>\n",
       "      <td>Matthew Stafford</td>\n",
       "      <td>DET</td>\n",
       "      <td>10</td>\n",
       "      <td>23</td>\n",
       "      <td>16</td>\n",
       "      <td>421</td>\n",
       "      <td>663</td>\n",
       "      <td>5038</td>\n",
       "      <td>41</td>\n",
       "      <td>243</td>\n",
       "      <td>36</td>\n",
       "      <td>2011</td>\n",
       "    </tr>\n",
       "    <tr>\n",
       "      <th>1</th>\n",
       "      <td>1</td>\n",
       "      <td>2</td>\n",
       "      <td>Drew Brees</td>\n",
       "      <td>NOR</td>\n",
       "      <td>13</td>\n",
       "      <td>32</td>\n",
       "      <td>16</td>\n",
       "      <td>468</td>\n",
       "      <td>657</td>\n",
       "      <td>5476</td>\n",
       "      <td>46</td>\n",
       "      <td>279</td>\n",
       "      <td>24</td>\n",
       "      <td>2011</td>\n",
       "    </tr>\n",
       "    <tr>\n",
       "      <th>2</th>\n",
       "      <td>2</td>\n",
       "      <td>3</td>\n",
       "      <td>Tom Brady</td>\n",
       "      <td>NWE</td>\n",
       "      <td>13</td>\n",
       "      <td>34</td>\n",
       "      <td>16</td>\n",
       "      <td>401</td>\n",
       "      <td>611</td>\n",
       "      <td>5235</td>\n",
       "      <td>39</td>\n",
       "      <td>262</td>\n",
       "      <td>32</td>\n",
       "      <td>2011</td>\n",
       "    </tr>\n",
       "    <tr>\n",
       "      <th>3</th>\n",
       "      <td>3</td>\n",
       "      <td>4</td>\n",
       "      <td>Eli Manning</td>\n",
       "      <td>NYG</td>\n",
       "      <td>9</td>\n",
       "      <td>30</td>\n",
       "      <td>16</td>\n",
       "      <td>359</td>\n",
       "      <td>589</td>\n",
       "      <td>4933</td>\n",
       "      <td>29</td>\n",
       "      <td>218</td>\n",
       "      <td>28</td>\n",
       "      <td>2011</td>\n",
       "    </tr>\n",
       "    <tr>\n",
       "      <th>4</th>\n",
       "      <td>4</td>\n",
       "      <td>5</td>\n",
       "      <td>Philip Rivers</td>\n",
       "      <td>SDG</td>\n",
       "      <td>8</td>\n",
       "      <td>30</td>\n",
       "      <td>16</td>\n",
       "      <td>366</td>\n",
       "      <td>582</td>\n",
       "      <td>4624</td>\n",
       "      <td>27</td>\n",
       "      <td>234</td>\n",
       "      <td>30</td>\n",
       "      <td>2011</td>\n",
       "    </tr>\n",
       "  </tbody>\n",
       "</table>\n",
       "</div>"
      ],
      "text/plain": [
       "   Unnamed: 0  rank              name teams  wins  ages  games  completed  \\\n",
       "0           0     1  Matthew Stafford   DET    10    23     16        421   \n",
       "1           1     2        Drew Brees   NOR    13    32     16        468   \n",
       "2           2     3        Tom Brady    NWE    13    34     16        401   \n",
       "3           3     4       Eli Manning   NYG     9    30     16        359   \n",
       "4           4     5     Philip Rivers   SDG     8    30     16        366   \n",
       "\n",
       "   att  yards  touchdowns  first_downs  sacks  season  \n",
       "0  663   5038          41          243     36    2011  \n",
       "1  657   5476          46          279     24    2011  \n",
       "2  611   5235          39          262     32    2011  \n",
       "3  589   4933          29          218     28    2011  \n",
       "4  582   4624          27          234     30    2011  "
      ]
     },
     "execution_count": 4,
     "metadata": {},
     "output_type": "execute_result"
    }
   ],
   "source": [
    "passing_df.head()"
   ]
  },
  {
   "cell_type": "code",
   "execution_count": 5,
   "metadata": {},
   "outputs": [],
   "source": [
    "consistent_passers=passing_df.loc[passing_df['completed']>100]"
   ]
  },
  {
   "cell_type": "code",
   "execution_count": 6,
   "metadata": {},
   "outputs": [
    {
     "data": {
      "text/html": [
       "<div>\n",
       "<style scoped>\n",
       "    .dataframe tbody tr th:only-of-type {\n",
       "        vertical-align: middle;\n",
       "    }\n",
       "\n",
       "    .dataframe tbody tr th {\n",
       "        vertical-align: top;\n",
       "    }\n",
       "\n",
       "    .dataframe thead th {\n",
       "        text-align: right;\n",
       "    }\n",
       "</style>\n",
       "<table border=\"1\" class=\"dataframe\">\n",
       "  <thead>\n",
       "    <tr style=\"text-align: right;\">\n",
       "      <th></th>\n",
       "      <th>Unnamed: 0</th>\n",
       "      <th>rank</th>\n",
       "      <th>wins</th>\n",
       "      <th>ages</th>\n",
       "      <th>games</th>\n",
       "      <th>completed</th>\n",
       "      <th>att</th>\n",
       "      <th>yards</th>\n",
       "      <th>touchdowns</th>\n",
       "      <th>first_downs</th>\n",
       "      <th>sacks</th>\n",
       "      <th>season</th>\n",
       "    </tr>\n",
       "  </thead>\n",
       "  <tbody>\n",
       "    <tr>\n",
       "      <th>count</th>\n",
       "      <td>325.000000</td>\n",
       "      <td>325.000000</td>\n",
       "      <td>325.000000</td>\n",
       "      <td>325.000000</td>\n",
       "      <td>325.000000</td>\n",
       "      <td>325.000000</td>\n",
       "      <td>325.000000</td>\n",
       "      <td>325.000000</td>\n",
       "      <td>325.000000</td>\n",
       "      <td>325.000000</td>\n",
       "      <td>325.000000</td>\n",
       "      <td>325.000000</td>\n",
       "    </tr>\n",
       "    <tr>\n",
       "      <th>mean</th>\n",
       "      <td>219.353846</td>\n",
       "      <td>18.630769</td>\n",
       "      <td>6.686154</td>\n",
       "      <td>28.504615</td>\n",
       "      <td>12.947692</td>\n",
       "      <td>280.738462</td>\n",
       "      <td>446.920000</td>\n",
       "      <td>3246.504615</td>\n",
       "      <td>20.396923</td>\n",
       "      <td>158.273846</td>\n",
       "      <td>29.609231</td>\n",
       "      <td>2014.953846</td>\n",
       "    </tr>\n",
       "    <tr>\n",
       "      <th>std</th>\n",
       "      <td>131.848261</td>\n",
       "      <td>10.564863</td>\n",
       "      <td>3.596117</td>\n",
       "      <td>4.708556</td>\n",
       "      <td>3.690207</td>\n",
       "      <td>94.264907</td>\n",
       "      <td>139.573556</td>\n",
       "      <td>1099.311206</td>\n",
       "      <td>9.596134</td>\n",
       "      <td>56.260160</td>\n",
       "      <td>10.587579</td>\n",
       "      <td>2.564181</td>\n",
       "    </tr>\n",
       "    <tr>\n",
       "      <th>min</th>\n",
       "      <td>0.000000</td>\n",
       "      <td>1.000000</td>\n",
       "      <td>0.000000</td>\n",
       "      <td>21.000000</td>\n",
       "      <td>4.000000</td>\n",
       "      <td>101.000000</td>\n",
       "      <td>166.000000</td>\n",
       "      <td>935.000000</td>\n",
       "      <td>2.000000</td>\n",
       "      <td>46.000000</td>\n",
       "      <td>4.000000</td>\n",
       "      <td>2011.000000</td>\n",
       "    </tr>\n",
       "    <tr>\n",
       "      <th>25%</th>\n",
       "      <td>110.000000</td>\n",
       "      <td>10.000000</td>\n",
       "      <td>4.000000</td>\n",
       "      <td>25.000000</td>\n",
       "      <td>10.000000</td>\n",
       "      <td>196.000000</td>\n",
       "      <td>327.000000</td>\n",
       "      <td>2285.000000</td>\n",
       "      <td>13.000000</td>\n",
       "      <td>111.000000</td>\n",
       "      <td>21.000000</td>\n",
       "      <td>2013.000000</td>\n",
       "    </tr>\n",
       "    <tr>\n",
       "      <th>50%</th>\n",
       "      <td>215.000000</td>\n",
       "      <td>19.000000</td>\n",
       "      <td>7.000000</td>\n",
       "      <td>28.000000</td>\n",
       "      <td>15.000000</td>\n",
       "      <td>296.000000</td>\n",
       "      <td>476.000000</td>\n",
       "      <td>3369.000000</td>\n",
       "      <td>20.000000</td>\n",
       "      <td>163.000000</td>\n",
       "      <td>29.000000</td>\n",
       "      <td>2015.000000</td>\n",
       "    </tr>\n",
       "    <tr>\n",
       "      <th>75%</th>\n",
       "      <td>329.000000</td>\n",
       "      <td>28.000000</td>\n",
       "      <td>10.000000</td>\n",
       "      <td>32.000000</td>\n",
       "      <td>16.000000</td>\n",
       "      <td>355.000000</td>\n",
       "      <td>561.000000</td>\n",
       "      <td>4077.000000</td>\n",
       "      <td>27.000000</td>\n",
       "      <td>203.000000</td>\n",
       "      <td>37.000000</td>\n",
       "      <td>2017.000000</td>\n",
       "    </tr>\n",
       "    <tr>\n",
       "      <th>max</th>\n",
       "      <td>447.000000</td>\n",
       "      <td>40.000000</td>\n",
       "      <td>15.000000</td>\n",
       "      <td>42.000000</td>\n",
       "      <td>16.000000</td>\n",
       "      <td>471.000000</td>\n",
       "      <td>727.000000</td>\n",
       "      <td>5477.000000</td>\n",
       "      <td>55.000000</td>\n",
       "      <td>291.000000</td>\n",
       "      <td>62.000000</td>\n",
       "      <td>2019.000000</td>\n",
       "    </tr>\n",
       "  </tbody>\n",
       "</table>\n",
       "</div>"
      ],
      "text/plain": [
       "       Unnamed: 0        rank        wins        ages       games   completed  \\\n",
       "count  325.000000  325.000000  325.000000  325.000000  325.000000  325.000000   \n",
       "mean   219.353846   18.630769    6.686154   28.504615   12.947692  280.738462   \n",
       "std    131.848261   10.564863    3.596117    4.708556    3.690207   94.264907   \n",
       "min      0.000000    1.000000    0.000000   21.000000    4.000000  101.000000   \n",
       "25%    110.000000   10.000000    4.000000   25.000000   10.000000  196.000000   \n",
       "50%    215.000000   19.000000    7.000000   28.000000   15.000000  296.000000   \n",
       "75%    329.000000   28.000000   10.000000   32.000000   16.000000  355.000000   \n",
       "max    447.000000   40.000000   15.000000   42.000000   16.000000  471.000000   \n",
       "\n",
       "              att        yards  touchdowns  first_downs       sacks  \\\n",
       "count  325.000000   325.000000  325.000000   325.000000  325.000000   \n",
       "mean   446.920000  3246.504615   20.396923   158.273846   29.609231   \n",
       "std    139.573556  1099.311206    9.596134    56.260160   10.587579   \n",
       "min    166.000000   935.000000    2.000000    46.000000    4.000000   \n",
       "25%    327.000000  2285.000000   13.000000   111.000000   21.000000   \n",
       "50%    476.000000  3369.000000   20.000000   163.000000   29.000000   \n",
       "75%    561.000000  4077.000000   27.000000   203.000000   37.000000   \n",
       "max    727.000000  5477.000000   55.000000   291.000000   62.000000   \n",
       "\n",
       "            season  \n",
       "count   325.000000  \n",
       "mean   2014.953846  \n",
       "std       2.564181  \n",
       "min    2011.000000  \n",
       "25%    2013.000000  \n",
       "50%    2015.000000  \n",
       "75%    2017.000000  \n",
       "max    2019.000000  "
      ]
     },
     "execution_count": 6,
     "metadata": {},
     "output_type": "execute_result"
    }
   ],
   "source": [
    "consistent_passers.describe()"
   ]
  },
  {
   "cell_type": "code",
   "execution_count": 7,
   "metadata": {},
   "outputs": [
    {
     "data": {
      "text/plain": [
       "Unnamed: 0     0\n",
       "rank           0\n",
       "name           0\n",
       "teams          0\n",
       "wins           0\n",
       "ages           0\n",
       "games          0\n",
       "completed      0\n",
       "att            0\n",
       "yards          0\n",
       "touchdowns     0\n",
       "first_downs    0\n",
       "sacks          0\n",
       "season         0\n",
       "dtype: int64"
      ]
     },
     "execution_count": 7,
     "metadata": {},
     "output_type": "execute_result"
    }
   ],
   "source": [
    "consistent_passers.isnull().sum()"
   ]
  },
  {
   "cell_type": "code",
   "execution_count": 8,
   "metadata": {},
   "outputs": [
    {
     "data": {
      "text/html": [
       "<div>\n",
       "<style scoped>\n",
       "    .dataframe tbody tr th:only-of-type {\n",
       "        vertical-align: middle;\n",
       "    }\n",
       "\n",
       "    .dataframe tbody tr th {\n",
       "        vertical-align: top;\n",
       "    }\n",
       "\n",
       "    .dataframe thead th {\n",
       "        text-align: right;\n",
       "    }\n",
       "</style>\n",
       "<table border=\"1\" class=\"dataframe\">\n",
       "  <thead>\n",
       "    <tr style=\"text-align: right;\">\n",
       "      <th></th>\n",
       "      <th>Unnamed: 0</th>\n",
       "      <th>rank</th>\n",
       "      <th>name</th>\n",
       "      <th>teams</th>\n",
       "      <th>wins</th>\n",
       "      <th>ages</th>\n",
       "      <th>games</th>\n",
       "      <th>completed</th>\n",
       "      <th>att</th>\n",
       "      <th>yards</th>\n",
       "      <th>touchdowns</th>\n",
       "      <th>first_downs</th>\n",
       "      <th>sacks</th>\n",
       "      <th>season</th>\n",
       "    </tr>\n",
       "  </thead>\n",
       "  <tbody>\n",
       "    <tr>\n",
       "      <th>0</th>\n",
       "      <td>0</td>\n",
       "      <td>1</td>\n",
       "      <td>Matthew Stafford</td>\n",
       "      <td>DET</td>\n",
       "      <td>10</td>\n",
       "      <td>23</td>\n",
       "      <td>16</td>\n",
       "      <td>421</td>\n",
       "      <td>663</td>\n",
       "      <td>5038</td>\n",
       "      <td>41</td>\n",
       "      <td>243</td>\n",
       "      <td>36</td>\n",
       "      <td>2011</td>\n",
       "    </tr>\n",
       "    <tr>\n",
       "      <th>1</th>\n",
       "      <td>1</td>\n",
       "      <td>2</td>\n",
       "      <td>Drew Brees</td>\n",
       "      <td>NOR</td>\n",
       "      <td>13</td>\n",
       "      <td>32</td>\n",
       "      <td>16</td>\n",
       "      <td>468</td>\n",
       "      <td>657</td>\n",
       "      <td>5476</td>\n",
       "      <td>46</td>\n",
       "      <td>279</td>\n",
       "      <td>24</td>\n",
       "      <td>2011</td>\n",
       "    </tr>\n",
       "    <tr>\n",
       "      <th>2</th>\n",
       "      <td>2</td>\n",
       "      <td>3</td>\n",
       "      <td>Tom Brady</td>\n",
       "      <td>NWE</td>\n",
       "      <td>13</td>\n",
       "      <td>34</td>\n",
       "      <td>16</td>\n",
       "      <td>401</td>\n",
       "      <td>611</td>\n",
       "      <td>5235</td>\n",
       "      <td>39</td>\n",
       "      <td>262</td>\n",
       "      <td>32</td>\n",
       "      <td>2011</td>\n",
       "    </tr>\n",
       "    <tr>\n",
       "      <th>3</th>\n",
       "      <td>3</td>\n",
       "      <td>4</td>\n",
       "      <td>Eli Manning</td>\n",
       "      <td>NYG</td>\n",
       "      <td>9</td>\n",
       "      <td>30</td>\n",
       "      <td>16</td>\n",
       "      <td>359</td>\n",
       "      <td>589</td>\n",
       "      <td>4933</td>\n",
       "      <td>29</td>\n",
       "      <td>218</td>\n",
       "      <td>28</td>\n",
       "      <td>2011</td>\n",
       "    </tr>\n",
       "    <tr>\n",
       "      <th>4</th>\n",
       "      <td>4</td>\n",
       "      <td>5</td>\n",
       "      <td>Philip Rivers</td>\n",
       "      <td>SDG</td>\n",
       "      <td>8</td>\n",
       "      <td>30</td>\n",
       "      <td>16</td>\n",
       "      <td>366</td>\n",
       "      <td>582</td>\n",
       "      <td>4624</td>\n",
       "      <td>27</td>\n",
       "      <td>234</td>\n",
       "      <td>30</td>\n",
       "      <td>2011</td>\n",
       "    </tr>\n",
       "  </tbody>\n",
       "</table>\n",
       "</div>"
      ],
      "text/plain": [
       "   Unnamed: 0  rank              name teams  wins  ages  games  completed  \\\n",
       "0           0     1  Matthew Stafford   DET    10    23     16        421   \n",
       "1           1     2        Drew Brees   NOR    13    32     16        468   \n",
       "2           2     3        Tom Brady    NWE    13    34     16        401   \n",
       "3           3     4       Eli Manning   NYG     9    30     16        359   \n",
       "4           4     5     Philip Rivers   SDG     8    30     16        366   \n",
       "\n",
       "   att  yards  touchdowns  first_downs  sacks  season  \n",
       "0  663   5038          41          243     36    2011  \n",
       "1  657   5476          46          279     24    2011  \n",
       "2  611   5235          39          262     32    2011  \n",
       "3  589   4933          29          218     28    2011  \n",
       "4  582   4624          27          234     30    2011  "
      ]
     },
     "execution_count": 8,
     "metadata": {},
     "output_type": "execute_result"
    }
   ],
   "source": [
    "consistent_passers.head()"
   ]
  },
  {
   "cell_type": "code",
   "execution_count": 9,
   "metadata": {},
   "outputs": [
    {
     "data": {
      "text/plain": [
       "<seaborn.axisgrid.FacetGrid at 0x1a1c8a5278>"
      ]
     },
     "execution_count": 9,
     "metadata": {},
     "output_type": "execute_result"
    },
    {
     "data": {
      "image/png": "[encoded data removed]",
      "text/plain": [
       "<Figure size 414.875x360 with 1 Axes>"
      ]
     },
     "metadata": {
      "needs_background": "light"
     },
     "output_type": "display_data"
    }
   ],
   "source": [
    "sns.relplot(x='touchdowns', y='completed', hue='att', data=consistent_passers)"
   ]
  },
  {
   "cell_type": "code",
   "execution_count": 10,
   "metadata": {},
   "outputs": [
    {
     "data": {
      "text/plain": [
       "<seaborn.axisgrid.FacetGrid at 0x1a1c8cfac8>"
      ]
     },
     "execution_count": 10,
     "metadata": {},
     "output_type": "execute_result"
    },
    {
     "data": {
      "image/png": "[encoded data removed]",
      "text/plain": [
       "<Figure size 429.5x360 with 1 Axes>"
      ]
     },
     "metadata": {
      "needs_background": "light"
     },
     "output_type": "display_data"
    }
   ],
   "source": [
    "sns.relplot(x='touchdowns', y='first_downs', hue='games', data=consistent_passers)"
   ]
  },
  {
   "cell_type": "code",
   "execution_count": 11,
   "metadata": {},
   "outputs": [
    {
     "data": {
      "text/plain": [
       "<seaborn.axisgrid.FacetGrid at 0x1a1c9d3630>"
      ]
     },
     "execution_count": 11,
     "metadata": {},
     "output_type": "execute_result"
    },
    {
     "data": {
      "image/png": "[encoded data removed]",
      "text/plain": [
       "<Figure size 360x360 with 1 Axes>"
      ]
     },
     "metadata": {
      "needs_background": "light"
     },
     "output_type": "display_data"
    }
   ],
   "source": [
    "sns.relplot(x='touchdowns', y='yards', data=consistent_passers)"
   ]
  },
  {
   "cell_type": "code",
   "execution_count": 12,
   "metadata": {},
   "outputs": [
    {
     "data": {
      "text/plain": [
       "<seaborn.axisgrid.FacetGrid at 0x1a1cb724e0>"
      ]
     },
     "execution_count": 12,
     "metadata": {},
     "output_type": "execute_result"
    },
    {
     "data": {
      "image/png": "[encoded data removed]",
      "text/plain": [
       "<Figure size 360x360 with 1 Axes>"
      ]
     },
     "metadata": {
      "needs_background": "light"
     },
     "output_type": "display_data"
    }
   ],
   "source": [
    "sns.relplot(x='touchdowns', y='sacks', data=consistent_passers)"
   ]
  },
  {
   "cell_type": "code",
   "execution_count": 13,
   "metadata": {},
   "outputs": [
    {
     "data": {
      "text/plain": [
       "<seaborn.axisgrid.FacetGrid at 0x1a1cc4f0f0>"
      ]
     },
     "execution_count": 13,
     "metadata": {},
     "output_type": "execute_result"
    },
    {
     "data": {
      "image/png": "[encoded data removed]",
      "text/plain": [
       "<Figure size 360x360 with 1 Axes>"
      ]
     },
     "metadata": {
      "needs_background": "light"
     },
     "output_type": "display_data"
    }
   ],
   "source": [
    "sns.relplot(x='touchdowns', y='att', data=consistent_passers)"
   ]
  },
  {
   "cell_type": "code",
   "execution_count": 14,
   "metadata": {},
   "outputs": [
    {
     "data": {
      "text/html": [
       "<div>\n",
       "<style scoped>\n",
       "    .dataframe tbody tr th:only-of-type {\n",
       "        vertical-align: middle;\n",
       "    }\n",
       "\n",
       "    .dataframe tbody tr th {\n",
       "        vertical-align: top;\n",
       "    }\n",
       "\n",
       "    .dataframe thead th {\n",
       "        text-align: right;\n",
       "    }\n",
       "</style>\n",
       "<table border=\"1\" class=\"dataframe\">\n",
       "  <thead>\n",
       "    <tr style=\"text-align: right;\">\n",
       "      <th></th>\n",
       "      <th>Unnamed: 0</th>\n",
       "      <th>rank</th>\n",
       "      <th>name</th>\n",
       "      <th>teams</th>\n",
       "      <th>wins</th>\n",
       "      <th>ages</th>\n",
       "      <th>games</th>\n",
       "      <th>completed</th>\n",
       "      <th>att</th>\n",
       "      <th>yards</th>\n",
       "      <th>touchdowns</th>\n",
       "      <th>first_downs</th>\n",
       "      <th>sacks</th>\n",
       "      <th>season</th>\n",
       "    </tr>\n",
       "  </thead>\n",
       "  <tbody>\n",
       "    <tr>\n",
       "      <th>0</th>\n",
       "      <td>0</td>\n",
       "      <td>1</td>\n",
       "      <td>Matthew Stafford</td>\n",
       "      <td>DET</td>\n",
       "      <td>10</td>\n",
       "      <td>23</td>\n",
       "      <td>16</td>\n",
       "      <td>421</td>\n",
       "      <td>663</td>\n",
       "      <td>5038</td>\n",
       "      <td>41</td>\n",
       "      <td>243</td>\n",
       "      <td>36</td>\n",
       "      <td>2011</td>\n",
       "    </tr>\n",
       "    <tr>\n",
       "      <th>1</th>\n",
       "      <td>1</td>\n",
       "      <td>2</td>\n",
       "      <td>Drew Brees</td>\n",
       "      <td>NOR</td>\n",
       "      <td>13</td>\n",
       "      <td>32</td>\n",
       "      <td>16</td>\n",
       "      <td>468</td>\n",
       "      <td>657</td>\n",
       "      <td>5476</td>\n",
       "      <td>46</td>\n",
       "      <td>279</td>\n",
       "      <td>24</td>\n",
       "      <td>2011</td>\n",
       "    </tr>\n",
       "    <tr>\n",
       "      <th>2</th>\n",
       "      <td>2</td>\n",
       "      <td>3</td>\n",
       "      <td>Tom Brady</td>\n",
       "      <td>NWE</td>\n",
       "      <td>13</td>\n",
       "      <td>34</td>\n",
       "      <td>16</td>\n",
       "      <td>401</td>\n",
       "      <td>611</td>\n",
       "      <td>5235</td>\n",
       "      <td>39</td>\n",
       "      <td>262</td>\n",
       "      <td>32</td>\n",
       "      <td>2011</td>\n",
       "    </tr>\n",
       "    <tr>\n",
       "      <th>3</th>\n",
       "      <td>3</td>\n",
       "      <td>4</td>\n",
       "      <td>Eli Manning</td>\n",
       "      <td>NYG</td>\n",
       "      <td>9</td>\n",
       "      <td>30</td>\n",
       "      <td>16</td>\n",
       "      <td>359</td>\n",
       "      <td>589</td>\n",
       "      <td>4933</td>\n",
       "      <td>29</td>\n",
       "      <td>218</td>\n",
       "      <td>28</td>\n",
       "      <td>2011</td>\n",
       "    </tr>\n",
       "    <tr>\n",
       "      <th>4</th>\n",
       "      <td>4</td>\n",
       "      <td>5</td>\n",
       "      <td>Philip Rivers</td>\n",
       "      <td>SDG</td>\n",
       "      <td>8</td>\n",
       "      <td>30</td>\n",
       "      <td>16</td>\n",
       "      <td>366</td>\n",
       "      <td>582</td>\n",
       "      <td>4624</td>\n",
       "      <td>27</td>\n",
       "      <td>234</td>\n",
       "      <td>30</td>\n",
       "      <td>2011</td>\n",
       "    </tr>\n",
       "  </tbody>\n",
       "</table>\n",
       "</div>"
      ],
      "text/plain": [
       "   Unnamed: 0  rank              name teams  wins  ages  games  completed  \\\n",
       "0           0     1  Matthew Stafford   DET    10    23     16        421   \n",
       "1           1     2        Drew Brees   NOR    13    32     16        468   \n",
       "2           2     3        Tom Brady    NWE    13    34     16        401   \n",
       "3           3     4       Eli Manning   NYG     9    30     16        359   \n",
       "4           4     5     Philip Rivers   SDG     8    30     16        366   \n",
       "\n",
       "   att  yards  touchdowns  first_downs  sacks  season  \n",
       "0  663   5038          41          243     36    2011  \n",
       "1  657   5476          46          279     24    2011  \n",
       "2  611   5235          39          262     32    2011  \n",
       "3  589   4933          29          218     28    2011  \n",
       "4  582   4624          27          234     30    2011  "
      ]
     },
     "execution_count": 14,
     "metadata": {},
     "output_type": "execute_result"
    }
   ],
   "source": [
    "consistent_passers.head()"
   ]
  },
  {
   "cell_type": "code",
   "execution_count": 15,
   "metadata": {},
   "outputs": [],
   "source": [
    "from sklearn.linear_model import LinearRegression\n",
    "from sklearn.model_selection import train_test_split"
   ]
  },
  {
   "cell_type": "code",
   "execution_count": 65,
   "metadata": {},
   "outputs": [],
   "source": [
    "train=consistent_passers.drop(['Unnamed: 0', 'name', 'teams', 'ages', 'season','wins', 'rank'], axis=1)\n",
    "test=consistent_passers['wins']"
   ]
  },
  {
   "cell_type": "code",
   "execution_count": 66,
   "metadata": {},
   "outputs": [],
   "source": [
    "x_train, x_test, y_train, y_test = train_test_split(train, test, test_size=0.3, random_state=2)"
   ]
  },
  {
   "cell_type": "code",
   "execution_count": 67,
   "metadata": {},
   "outputs": [],
   "source": [
    "regr=LinearRegression()"
   ]
  },
  {
   "cell_type": "code",
   "execution_count": 68,
   "metadata": {},
   "outputs": [
    {
     "data": {
      "text/plain": [
       "LinearRegression(copy_X=True, fit_intercept=True, n_jobs=None, normalize=False)"
      ]
     },
     "execution_count": 68,
     "metadata": {},
     "output_type": "execute_result"
    }
   ],
   "source": [
    "regr.fit(x_train, y_train)"
   ]
  },
  {
   "cell_type": "code",
   "execution_count": 69,
   "metadata": {},
   "outputs": [],
   "source": [
    "pred=regr.predict(x_test)"
   ]
  },
  {
   "cell_type": "code",
   "execution_count": 70,
   "metadata": {},
   "outputs": [
    {
     "data": {
      "text/plain": [
       "array([11.31585213,  2.71974893, 11.50077117,  2.26634689,  5.81277764,\n",
       "        3.98658929,  1.36377537,  4.1992239 ,  3.94350675,  5.41295174,\n",
       "        9.17858955, 10.03487583, 12.1701743 ,  9.37355631,  8.96837721,\n",
       "        0.03762803,  2.62846216, 10.21456011,  8.96867336,  2.16316459,\n",
       "        2.04614324,  2.71838981,  7.88882485,  9.49617223,  1.3991279 ,\n",
       "        3.54107385,  9.01715075,  8.75488929,  5.03150492,  3.27125659,\n",
       "        7.98689519, 12.17876348,  7.74757637,  4.88085221,  3.64662431,\n",
       "        7.32684054,  8.54601621,  1.70566122,  1.89611449,  0.54826936,\n",
       "        8.20380085,  8.88832068, 10.82439179,  5.88033461,  8.16923339,\n",
       "       10.58266868,  3.84339559,  6.28636374,  8.32334303,  4.59076087,\n",
       "        5.87451022,  7.10485658,  5.28794169, 11.42218111,  5.4495546 ,\n",
       "        0.2998929 ,  4.23902716, 11.4231194 ,  8.42684305,  7.8541664 ,\n",
       "        8.16042213,  9.60339728,  3.48077088,  5.84395168,  3.33128574,\n",
       "        7.88081457,  6.13222313,  8.07073994,  7.02946237,  8.17811061,\n",
       "        7.09205413,  7.03014586,  9.15301589,  7.14825264,  0.49029153,\n",
       "       -0.50590918, 11.61124858,  7.88741602,  5.60919298,  7.36600971,\n",
       "        9.92209706,  8.3615557 , 10.97562786,  4.6936863 ,  8.77061448,\n",
       "        6.06726029,  8.67073152,  3.00459847,  8.76700001,  8.9846424 ,\n",
       "        4.82767781,  3.17099647,  7.8367903 , 10.11386628, 11.4290785 ,\n",
       "        6.50937716,  8.36321088,  9.73031341])"
      ]
     },
     "execution_count": 70,
     "metadata": {},
     "output_type": "execute_result"
    }
   ],
   "source": [
    "pred"
   ]
  },
  {
   "cell_type": "code",
   "execution_count": 71,
   "metadata": {},
   "outputs": [
    {
     "data": {
      "text/plain": [
       "0.6746075819897572"
      ]
     },
     "execution_count": 71,
     "metadata": {},
     "output_type": "execute_result"
    }
   ],
   "source": [
    "regr.score(x_test, y_test)"
   ]
  },
  {
   "cell_type": "code",
   "execution_count": null,
   "metadata": {},
   "outputs": [],
   "source": []
  }
 ],
 "metadata": {
  "kernelspec": {
   "display_name": "Python [conda env:PythonData] *",
   "language": "python",
   "name": "conda-env-PythonData-py"
  },
  "language_info": {
   "codemirror_mode": {
    "name": "ipython",
    "version": 3
   },
   "file_extension": ".py",
   "mimetype": "text/x-python",
   "name": "python",
   "nbconvert_exporter": "python",
   "pygments_lexer": "ipython3",
   "version": "3.6.10"
  }
 },
 "nbformat": 4,
 "nbformat_minor": 4
}
