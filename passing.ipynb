{
 "cells": [
  {
   "cell_type": "code",
   "execution_count": 1,
   "metadata": {},
   "outputs": [],
   "source": [
    "from bs4 import BeautifulSoup as bs\n",
    "import requests\n",
    "import pymongo\n",
    "from splinter import Browser\n",
    "import pandas as pd\n",
    "import time"
   ]
  },
  {
   "cell_type": "code",
   "execution_count": 2,
   "metadata": {},
   "outputs": [
    {
     "name": "stdout",
     "output_type": "stream",
     "text": [
      "/usr/local/bin/chromedriver\r\n"
     ]
    }
   ],
   "source": [
    "!which chromedriver"
   ]
  },
  {
   "cell_type": "markdown",
   "metadata": {},
   "source": [
    "* Selected to Pro Bowl, + First-Team All-Pro"
   ]
  },
  {
   "cell_type": "code",
   "execution_count": 18,
   "metadata": {},
   "outputs": [
    {
     "name": "stdout",
     "output_type": "stream",
     "text": [
      "************skipped thead ************\n",
      "************skipped thead ************\n",
      "************skipped thead ************\n",
      "************skipped thead ************\n",
      "************skipped thead ************\n",
      "************skipped thead ************\n",
      "************skipped thead ************\n",
      "************skipped thead ************\n",
      "************skipped thead ************\n",
      "************skipped thead ************\n",
      "************skipped thead ************\n",
      "************skipped thead ************\n",
      "************skipped thead ************\n",
      "************skipped thead ************\n",
      "************skipped thead ************\n",
      "************skipped thead ************\n",
      "************skipped thead ************\n",
      "************skipped thead ************\n",
      "************skipped thead ************\n",
      "************skipped thead ************\n",
      "************skipped thead ************\n",
      "************skipped thead ************\n",
      "************skipped thead ************\n",
      "************skipped thead ************\n",
      "************skipped thead ************\n",
      "************skipped thead ************\n",
      "************skipped thead ************\n",
      "************skipped thead ************\n",
      "************skipped thead ************\n",
      "************skipped thead ************\n",
      "************skipped thead ************\n",
      "************skipped thead ************\n",
      "************skipped thead ************\n",
      "************skipped thead ************\n",
      "************skipped thead ************\n",
      "************skipped thead ************\n",
      "************skipped thead ************\n",
      "************skipped thead ************\n",
      "************skipped thead ************\n",
      "************skipped thead ************\n",
      "************skipped thead ************\n",
      "************skipped thead ************\n",
      "************skipped thead ************\n",
      "************skipped thead ************\n",
      "************skipped thead ************\n"
     ]
    }
   ],
   "source": [
    "year=[2011,2012,2013,2014,2015,2016,2017,2018,2019]\n",
    "\n",
    "player_stats=[]\n",
    "executable_path = {'executable_path': '/usr/local/bin/chromedriver'}\n",
    "browser = Browser('chrome', **executable_path, headless=False)\n",
    "\n",
    "for i in range(len(year)):\n",
    "    url=f\"https://www.pro-football-reference.com/years/{year[i]}/passing.htm\"\n",
    "    browser.visit(url)\n",
    "    time.sleep(4)\n",
    "    page_html=browser.html\n",
    "    soup = bs(page_html, 'lxml')\n",
    "    tables=soup.find_all('tbody')\n",
    "    players=tables[10]\n",
    "    passers=players.find_all('tr')\n",
    "    for x in range(len(passers)):\n",
    "        try:\n",
    "            r=passers[x].th.text\n",
    "            ranks=int(r)\n",
    "            name=passers[x].td.a.text\n",
    "            t=passers[x]('td', attrs={'data-stat': 'team'})\n",
    "            te=t[0]('a')\n",
    "            team=te[0].text\n",
    "            a=passers[x]('td', attrs={'data-stat': 'age'})\n",
    "            ag=a[0].text \n",
    "            games_text=passers[x]('td', attrs={'data-stat': 'gs'})\n",
    "            g=games_text[0].text\n",
    "            complete=passers[x]('td', attrs={'data-stat': 'pass_cmp'})\n",
    "            complete=complete[0].text\n",
    "            att=passers[x]('td', attrs={'data-stat': 'pass_att'})\n",
    "            att=att[0].text\n",
    "            yards_text=passers[x]('td', attrs={'data-stat': 'pass_yds'})\n",
    "            yards=yards_text[0].text\n",
    "            tds_text=passers[x]('td', attrs={'data-stat': 'pass_td'})\n",
    "            tds=tds_text[0].text\n",
    "            st_text=passers[x]('td', attrs={'data-stat': 'pass_first_down'})\n",
    "            pass_first_down=st_text[0].text\n",
    "            sacks=passers[x]('td', attrs={'data-stat': 'pass_sacked'})\n",
    "            sacks=sacks[0].text\n",
    "            player_dict={\n",
    "                \"rank\":int(ranks),\n",
    "                \"name\":name,\n",
    "                \"teams\":team,\n",
    "                \"ages\":int(ag),\n",
    "                \"games\":int(g),\n",
    "                \"completed\":int(complete),\n",
    "                'att':int(att),\n",
    "                \"yards\":int(yards),\n",
    "                \"touchdowns\":int(tds),\n",
    "                \"first_downs\":int(pass_first_down),\n",
    "                \"sacks\":int(sacks),\n",
    "                'season':year[i]\n",
    "            }\n",
    "            player_stats.append(player_dict)\n",
    "        except:\n",
    "#             rushers.pop(x)\n",
    "            print('************skipped thead ************')\n"
   ]
  },
  {
   "cell_type": "code",
   "execution_count": 20,
   "metadata": {},
   "outputs": [],
   "source": [
    "player_df=pd.DataFrame(player_stats)\n",
    "player_df.to_csv('passing_stats.csv')"
   ]
  },
  {
   "cell_type": "code",
   "execution_count": null,
   "metadata": {},
   "outputs": [],
   "source": []
  }
 ],
 "metadata": {
  "kernelspec": {
   "display_name": "Python [conda env:PythonData] *",
   "language": "python",
   "name": "conda-env-PythonData-py"
  },
  "language_info": {
   "codemirror_mode": {
    "name": "ipython",
    "version": 3
   },
   "file_extension": ".py",
   "mimetype": "text/x-python",
   "name": "python",
   "nbconvert_exporter": "python",
   "pygments_lexer": "ipython3",
   "version": "3.6.10"
  }
 },
 "nbformat": 4,
 "nbformat_minor": 4
}
