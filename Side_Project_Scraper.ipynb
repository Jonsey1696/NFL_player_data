{
 "cells": [
  {
   "cell_type": "code",
   "execution_count": 60,
   "metadata": {},
   "outputs": [],
   "source": [
    "# import dependencies \n",
    "from bs4 import BeautifulSoup as bs\n",
    "from splinter import Browser\n",
    "import requests \n",
    "import pandas as pd\n",
    "import time"
   ]
  },
  {
   "cell_type": "code",
   "execution_count": 2,
   "metadata": {},
   "outputs": [
    {
     "name": "stdout",
     "output_type": "stream",
     "text": [
      "/usr/local/bin/chromedriver\r\n"
     ]
    }
   ],
   "source": [
    "!which chromedriver"
   ]
  },
  {
   "cell_type": "code",
   "execution_count": 3,
   "metadata": {},
   "outputs": [],
   "source": [
    "ex_path = {'executable_path': '/usr/local/bin/chromedriver'}\n",
    "browser = Browser('chrome', **ex_path, headless=False)"
   ]
  },
  {
   "cell_type": "code",
   "execution_count": 4,
   "metadata": {},
   "outputs": [],
   "source": [
    "# save url and use browser to visit site\n",
    "url = \"https://www.pro-football-reference.com/years/2020/week_1.htm\"\n",
    "browser.visit(url)"
   ]
  },
  {
   "cell_type": "code",
   "execution_count": 5,
   "metadata": {},
   "outputs": [],
   "source": [
    "nfl_html = browser.html\n",
    "nfl_soup = bs(nfl_html, 'html.parser')"
   ]
  },
  {
   "cell_type": "code",
   "execution_count": 6,
   "metadata": {},
   "outputs": [
    {
     "name": "stdout",
     "output_type": "stream",
     "text": [
      "2020 Week 1\n"
     ]
    }
   ],
   "source": [
    "headline = nfl_soup.find_all(\"h2\")\n",
    "print(headline[1].text)"
   ]
  },
  {
   "cell_type": "code",
   "execution_count": 7,
   "metadata": {},
   "outputs": [],
   "source": [
    "results = nfl_soup.find_all(\"div\", class_=\"game_summary nohover\")"
   ]
  },
  {
   "cell_type": "code",
   "execution_count": 36,
   "metadata": {},
   "outputs": [],
   "source": [
    "schedule = []\n",
    "teams = []\n",
    "for r in results: \n",
    "\n",
    "    game = r.find_all(\"table\", class_=\"teams\")\n",
    "    \n",
    "    for x in game:\n",
    "        teams_list = []\n",
    "        game = {}\n",
    "        teams = x.find_all(\"td\")\n",
    "        \n",
    "        day = teams[0].text\n",
    "        away = teams[1].text\n",
    "        home = teams[4].text\n",
    "        \n",
    "        game[\"Day\"] = day\n",
    "        game[\"Away\"] = away\n",
    "        game[\"Home\"] = home\n",
    "        \n",
    "        teams_list.append(away)\n",
    "        teams_list.append(home)\n",
    "        teams.append(teams_list)\n",
    "        schedule.append(game)"
   ]
  },
  {
   "cell_type": "code",
   "execution_count": 170,
   "metadata": {},
   "outputs": [
    {
     "data": {
      "text/plain": [
       "[{'Day': 'Thursday', 'Away': 'Houston Texans', 'Home': 'Kansas City Chiefs'},\n",
       " {'Day': 'Sunday', 'Away': 'New York Jets', 'Home': 'Buffalo Bills'},\n",
       " {'Day': 'Sunday', 'Away': 'Seattle Seahawks', 'Home': 'Atlanta Falcons'},\n",
       " {'Day': 'Sunday',\n",
       "  'Away': 'Philadelphia Eagles',\n",
       "  'Home': 'Washington Football Team'},\n",
       " {'Day': 'Sunday', 'Away': 'Arizona Cardinals', 'Home': 'San Francisco 49ers'},\n",
       " {'Day': 'Sunday', 'Away': 'Cleveland Browns', 'Home': 'Baltimore Ravens'},\n",
       " {'Day': 'Sunday', 'Away': 'Dallas Cowboys', 'Home': 'Los Angeles Rams'},\n",
       " {'Day': 'Sunday', 'Away': 'Miami Dolphins', 'Home': 'New England Patriots'},\n",
       " {'Day': 'Sunday',\n",
       "  'Away': 'Tampa Bay Buccaneers',\n",
       "  'Home': 'New Orleans Saints'},\n",
       " {'Day': 'Sunday', 'Away': 'Green Bay Packers', 'Home': 'Minnesota Vikings'},\n",
       " {'Day': 'Sunday',\n",
       "  'Away': 'Indianapolis Colts',\n",
       "  'Home': 'Jacksonville Jaguars'},\n",
       " {'Day': 'Sunday', 'Away': 'Chicago Bears', 'Home': 'Detroit Lions'},\n",
       " {'Day': 'Sunday',\n",
       "  'Away': 'Los Angeles Chargers',\n",
       "  'Home': 'Cincinnati Bengals'},\n",
       " {'Day': 'Sunday', 'Away': 'Las Vegas Raiders', 'Home': 'Carolina Panthers'},\n",
       " {'Day': 'Monday', 'Away': 'Pittsburgh Steelers', 'Home': 'New York Giants'},\n",
       " {'Day': 'Monday', 'Away': 'Tennessee Titans', 'Home': 'Denver Broncos'}]"
      ]
     },
     "execution_count": 170,
     "metadata": {},
     "output_type": "execute_result"
    }
   ],
   "source": [
    "schedule"
   ]
  },
  {
   "cell_type": "code",
   "execution_count": 232,
   "metadata": {},
   "outputs": [
    {
     "name": "stdout",
     "output_type": "stream",
     "text": [
      "[2011]\n"
     ]
    }
   ],
   "source": [
    "year = [2011]\n",
    "# year=[2011,2012,2013,2014,2015,2016,2017,2018,2019]\n",
    "\n",
    "for i in range(len(year)):\n",
    "    url = f\"https://www.pro-football-reference.com/years/{year[i]}/\"\n",
    "    browser.visit(url)\n",
    "#     time.sleep(4)\n",
    "    seasons_html = browser.html\n",
    "    seasons_soup = bs(seasons_html)\n",
    "\n",
    "    results1 = seasons_soup.find(\"div\", class_=\"content_grid\")\n",
    "    results = results1.findAll(True,{'id':[\"AFC\",\"NFC\"]})\n",
    "    \n",
    "    # gives standings/basic stats for the year \n",
    "    tables = pd.read_html(url)"
   ]
  },
  {
   "cell_type": "code",
   "execution_count": 228,
   "metadata": {},
   "outputs": [
    {
     "data": {
      "text/plain": [
       "'https://www.pro-football-reference.com/teams/nwe/2011.htm'"
      ]
     },
     "execution_count": 228,
     "metadata": {},
     "output_type": "execute_result"
    }
   ],
   "source": [
    "team_links = []\n",
    "for x in results:\n",
    "    teams = x.find_all(\"th\",scope=\"row\")\n",
    "    for team in teams:\n",
    "        name = team.text\n",
    "        link = team.find(\"a\")[\"href\"]\n",
    "        teamLink = ('https://www.pro-football-reference.com'+link)\n",
    "        team_links.append(teamLink)\n"
   ]
  },
  {
   "cell_type": "code",
   "execution_count": 207,
   "metadata": {},
   "outputs": [
    {
     "name": "stdout",
     "output_type": "stream",
     "text": [
      "[<table class=\"sortable stats_table now_sortable\" data-cols-to-freeze=\"1\" id=\"team_stats\"><caption>Team Stats and Rankings Table</caption>\n",
      "<colgroup><col/><col/><col/><col/><col/><col/><col/><col/><col/><col/><col/><col/><col/><col/><col/><col/><col/><col/><col/><col/><col/><col/><col/><col/><col/><col/><col/><col/><col/><col/><col/></colgroup>\n",
      "<thead>\n",
      "<tr class=\"over_header\"><th></th><th></th><th></th>\n",
      "<th aria-label=\"\" class=\"over_header center\" colspan=\"3\" data-stat=\"header_tot_off_tgl\">Tot Yds &amp; TO</th><th></th><th></th>\n",
      "<th aria-label=\"\" class=\"over_header center\" colspan=\"7\" data-stat=\"header_pass\">Passing</th>\n",
      "<th aria-label=\"\" class=\"over_header center\" colspan=\"5\" data-stat=\"header_rush\">Rushing</th>\n",
      "<th aria-label=\"\" class=\"over_header center\" colspan=\"3\" data-stat=\"header_penalties\">Penalties</th>\n",
      "<th aria-label=\"\" class=\"over_header center\" colspan=\"3\" data-stat=\"\"></th>\n",
      "<th aria-label=\"\" class=\"over_header center\" colspan=\"5\" data-stat=\"averages\">Average Drive</th>\n",
      "</tr>\n",
      "<tr>\n",
      "<th aria-label=\"player\" class=\"poptip sort_default_asc show_partial_when_sorting left\" data-stat=\"player\" scope=\"col\">Player</th>\n",
      "<th aria-label=\"Points For\" class=\"poptip center\" data-over-header=\"Points\" data-stat=\"points\" data-tip=\"Points Scored by team\" scope=\"col\">PF</th>\n",
      "<th aria-label=\"Yds\" class=\"poptip center\" data-stat=\"total_yards\" scope=\"col\">Yds</th>\n",
      "<th aria-label=\" Offensive Plays Run \" class=\"poptip center\" data-over-header=\"Tot Yds &amp; TO\" data-stat=\"plays_offense\" data-tip=\"Offensive Plays: Pass Attempts + Rush Attempts + Times Sacked\" scope=\"col\">Ply</th>\n",
      "<th aria-label=\" Yards Per Offensive Play \" class=\"poptip center\" data-over-header=\"Tot Yds &amp; TO\" data-stat=\"yds_per_play_offense\" data-tip=\"Yards per Offensive Play&lt;br&gt;(Rush + Pass Yards)/( Pass Attempts + Rush Attempts + Times Sacked)\" scope=\"col\">Y/P</th>\n",
      "<th aria-label=\"Turnovers\" class=\"poptip center\" data-over-header=\"Tot Yds &amp; TO\" data-stat=\"turnovers\" data-tip=\"Team Turnovers Lost\" scope=\"col\">TO</th>\n",
      "<th aria-label=\"Fumbles Lost\" class=\"poptip center\" data-over-header=\"Fumbles\" data-stat=\"fumbles_lost\" data-tip=\"Fumbles Lost by Player (since 1994) or Team\" scope=\"col\">FL</th>\n",
      "<th aria-label=\"1st Downs\" class=\"poptip center\" data-over-header=\"First Downs\" data-stat=\"first_down\" scope=\"col\">1stD</th>\n",
      "<th aria-label=\"Passes Completed\" class=\"poptip center\" data-over-header=\"Passing\" data-stat=\"pass_cmp\" data-tip=\"Passes completed\" scope=\"col\">Cmp</th>\n",
      "<th aria-label=\"Pass Attempts\" class=\"poptip center\" data-over-header=\"Passing\" data-stat=\"pass_att\" data-tip=\"Passes attempted\" scope=\"col\">Att</th>\n",
      "<th aria-label=\"Passing Yds\" class=\"poptip center\" data-over-header=\"Passing\" data-stat=\"pass_yds\" data-tip=\"Yards Gained by Passing&lt;br&gt;For teams, sack yardage is deducted from this total\" scope=\"col\">Yds</th>\n",
      "<th aria-label=\"Passing TD\" class=\"poptip center\" data-over-header=\"Passing\" data-stat=\"pass_td\" data-tip=\"Passing Touchdowns\" scope=\"col\">TD</th>\n",
      "<th aria-label=\"Passes Intercepted\" class=\"poptip center\" data-over-header=\"Passing\" data-stat=\"pass_int\" data-tip=\"Interceptions thrown\" scope=\"col\">Int</th>\n",
      "<th aria-label=\"Net Yds/Pass Att\" class=\"poptip hide_non_quals center\" data-filter=\"1\" data-name=\"Net Yds/Pass Att\" data-over-header=\"Passing\" data-stat=\"pass_net_yds_per_att\" data-tip=\"Net Yards gained per pass attempt&lt;br /&gt;(Passing Yards - Sack Yards) / (Passes Attempted + Times Sacked)&lt;br /&gt;Minimum 14 attempts per schedule game to qualify as leader.&lt;br /&gt;Minimum 1500 pass attempts to qualify as career leader.\" scope=\"col\">NY/A</th>\n",
      "<th aria-label=\"First Downs by Passing\" class=\"poptip center\" data-over-header=\"Passing\" data-stat=\"pass_fd\" data-tip=\"First Downs by Passing\" scope=\"col\">1stD</th>\n",
      "<th aria-label=\"Rushing Att\" class=\"poptip center\" data-over-header=\"Rushing\" data-stat=\"rush_att\" data-tip=\"Rushing Attempts (sacks not included in NFL)\" scope=\"col\">Att</th>\n",
      "<th aria-label=\"Rushing Yds\" class=\"poptip center\" data-over-header=\"Rushing\" data-stat=\"rush_yds\" data-tip=\"Rushing Yards Gained (sack yardage is not included by NFL)\" scope=\"col\">Yds</th>\n",
      "<th aria-label=\"Rushing TD\" class=\"poptip center\" data-over-header=\"Rushing\" data-stat=\"rush_td\" data-tip=\"Rushing Touchdowns\" scope=\"col\">TD</th>\n",
      "<th aria-label=\"Yds/Rushing Att\" class=\"poptip hide_non_quals center\" data-filter=\"1\" data-name=\"Yds/Rushing Att\" data-over-header=\"Rushing\" data-stat=\"rush_yds_per_att\" data-tip=\"Rushing Yards per Attempt&lt;br&gt;Minimum 6.25 rushes per game scheduled to qualify as leader.&lt;br /&gt;Minimum 750 rushes to qualify as career leader.\" scope=\"col\">Y/A</th>\n",
      "<th aria-label=\"First Downs by Rushing\" class=\"poptip center\" data-over-header=\"Rushing\" data-stat=\"rush_fd\" data-tip=\"First Downs by Rushing\" scope=\"col\">1stD</th>\n",
      "<th aria-label=\"Penalties\" class=\"poptip center\" data-over-header=\"Penalties\" data-stat=\"penalties\" data-tip=\"Penalties committed by team and accepted \" scope=\"col\">Pen</th>\n",
      "<th aria-label=\"Penalty Yds\" class=\"poptip center\" data-over-header=\"Penalties\" data-stat=\"penalties_yds\" data-tip=\"Penalties in yards committed by team \" scope=\"col\">Yds</th>\n",
      "<th aria-label=\"First Downs by Penalty\" class=\"poptip center\" data-over-header=\"Penalties\" data-stat=\"pen_fd\" data-tip=\"First Downs by Penalty\" scope=\"col\">1stPy</th>\n",
      "<th aria-label=\"Number of drives\" class=\"poptip right\" data-stat=\"drives\" data-tip=\"Number of drives\" scope=\"col\">#Dr</th>\n",
      "<th aria-label=\"Percentage of drives ending in an offensive score\" class=\"poptip center\" data-stat=\"score_pct\" data-tip=\"Percentage of drives ending in an offensive score\" scope=\"col\">Sc%</th>\n",
      "<th aria-label=\"Percentage of drives ending in an offensive turnover\" class=\"poptip center\" data-stat=\"turnover_pct\" data-tip=\"Percentage of drives ending in an offensive turnover\" scope=\"col\">TO%</th>\n",
      "<th aria-label=\"Average starting field position\" class=\"poptip center\" data-over-header=\"Average Drive\" data-stat=\"start_avg\" data-tip=\"Average starting field position\" scope=\"col\">Start</th>\n",
      "<th aria-label=\"Average time per drive\" class=\"poptip center\" data-over-header=\"Average Drive\" data-stat=\"time_avg\" data-tip=\"Average time per drive\" scope=\"col\">Time</th>\n",
      "<th aria-label=\"Average # of plays per Drive\" class=\"poptip center\" data-over-header=\"Average Drive\" data-stat=\"plays_per_drive\" data-tip=\"Average # of plays per Drive\" scope=\"col\">Plays</th>\n",
      "<th aria-label=\"Net yards per drive\" class=\"poptip right\" data-over-header=\"Average Drive\" data-stat=\"yds_per_drive\" data-tip=\"Net yards per drive\" scope=\"col\">Yds</th>\n",
      "<th aria-label=\"Average points scored per drive\" class=\"poptip center\" data-over-header=\"Average Drive\" data-stat=\"points_avg\" data-tip=\"Average points scored per drive\" scope=\"col\">Pts</th>\n",
      "</tr>\n",
      "</thead>\n",
      "<tbody>\n",
      "<tr data-row=\"0\"><th class=\"left\" data-stat=\"player\" scope=\"row\">Team Stats</th><td class=\"right\" data-stat=\"points\">513</td><td class=\"right\" data-stat=\"total_yards\">6848</td><td class=\"right\" data-stat=\"plays_offense\">1082</td><td class=\"right\" data-stat=\"yds_per_play_offense\">6.3</td><td class=\"right\" data-stat=\"turnovers\">17</td><td class=\"right\" data-stat=\"fumbles_lost\">5</td><td class=\"right\" data-stat=\"first_down\">399</td><td class=\"right\" data-stat=\"pass_cmp\">402</td><td class=\"right\" data-stat=\"pass_att\">612</td><td class=\"right\" data-stat=\"pass_yds\">5084</td><td class=\"right\" data-stat=\"pass_td\">39</td><td class=\"right\" data-stat=\"pass_int\">12</td><td class=\"right\" data-stat=\"pass_net_yds_per_att\">7.9</td><td class=\"right\" data-stat=\"pass_fd\">262</td><td class=\"right\" data-stat=\"rush_att\">438</td><td class=\"right\" data-stat=\"rush_yds\">1764</td><td class=\"right\" data-stat=\"rush_td\">18</td><td class=\"right\" data-stat=\"rush_yds_per_att\">4.0</td><td class=\"right\" data-stat=\"rush_fd\">107</td><td class=\"right\" data-stat=\"penalties\">87</td><td class=\"right\" data-stat=\"penalties_yds\">815</td><td class=\"right\" data-stat=\"pen_fd\">30</td><td class=\"right\" data-stat=\"drives\">180</td><td class=\"right\" data-stat=\"score_pct\">47.2</td><td class=\"right\" data-stat=\"turnover_pct\">8.3</td><td class=\"right\" data-stat=\"start_avg\">Own 29.3</td><td class=\"right\" data-stat=\"time_avg\">2:33</td><td class=\"right\" data-stat=\"plays_per_drive\">6.19</td><td class=\"right\" data-stat=\"yds_per_drive\">37.9</td><td class=\"right\" data-stat=\"points_avg\">2.68</td></tr>\n",
      "<tr data-row=\"1\"><th class=\"left\" data-stat=\"player\" scope=\"row\">Opp. Stats</th><td class=\"right\" data-stat=\"points\">342</td><td class=\"right\" data-stat=\"total_yards\">6577</td><td class=\"right\" data-stat=\"plays_offense\">1064</td><td class=\"right\" data-stat=\"yds_per_play_offense\">6.2</td><td class=\"right\" data-stat=\"turnovers\">34</td><td class=\"right\" data-stat=\"fumbles_lost\">11</td><td class=\"right\" data-stat=\"first_down\">370</td><td class=\"right\" data-stat=\"pass_cmp\">386</td><td class=\"right\" data-stat=\"pass_att\">619</td><td class=\"right\" data-stat=\"pass_yds\">4703</td><td class=\"right\" data-stat=\"pass_td\">26</td><td class=\"right\" data-stat=\"pass_int\">23</td><td class=\"right\" data-stat=\"pass_net_yds_per_att\">7.1</td><td class=\"right\" data-stat=\"pass_fd\">245</td><td class=\"right\" data-stat=\"rush_att\">405</td><td class=\"right\" data-stat=\"rush_yds\">1874</td><td class=\"right\" data-stat=\"rush_td\">13</td><td class=\"right\" data-stat=\"rush_yds_per_att\">4.6</td><td class=\"right\" data-stat=\"rush_fd\">101</td><td class=\"right\" data-stat=\"penalties\">115</td><td class=\"right\" data-stat=\"penalties_yds\">907</td><td class=\"right\" data-stat=\"pen_fd\">24</td><td class=\"right\" data-stat=\"drives\">181</td><td class=\"right\" data-stat=\"score_pct\">32.6</td><td class=\"right\" data-stat=\"turnover_pct\">17.1</td><td class=\"right\" data-stat=\"start_avg\">Own 24.5</td><td class=\"right\" data-stat=\"time_avg\">2:46</td><td class=\"right\" data-stat=\"plays_per_drive\">6.0</td><td class=\"right\" data-stat=\"yds_per_drive\">36.2</td><td class=\"right\" data-stat=\"points_avg\">1.84</td></tr>\n",
      "<tr data-row=\"2\"><th class=\"left\" data-stat=\"player\" scope=\"row\">Lg Rank Offense</th><td class=\"right\" data-stat=\"points\">3</td><td class=\"right\" data-stat=\"total_yards\">2</td><td class=\"right iz\" data-stat=\"plays_offense\"></td><td class=\"right iz\" data-stat=\"yds_per_play_offense\"></td><td class=\"right\" data-stat=\"turnovers\">3</td><td class=\"right\" data-stat=\"fumbles_lost\">1</td><td class=\"right\" data-stat=\"first_down\">2</td><td class=\"right iz\" data-stat=\"pass_cmp\"></td><td class=\"right\" data-stat=\"pass_att\">3</td><td class=\"right\" data-stat=\"pass_yds\">2</td><td class=\"right\" data-stat=\"pass_td\">4</td><td class=\"right\" data-stat=\"pass_int\">5</td><td class=\"right\" data-stat=\"pass_net_yds_per_att\">2</td><td class=\"right iz\" data-stat=\"pass_fd\"></td><td class=\"right\" data-stat=\"rush_att\">17</td><td class=\"right\" data-stat=\"rush_yds\">20</td><td class=\"right\" data-stat=\"rush_td\">3</td><td class=\"right\" data-stat=\"rush_yds_per_att\">24</td><td class=\"right iz\" data-stat=\"rush_fd\"></td><td class=\"right iz\" data-stat=\"penalties\"></td><td class=\"right iz\" data-stat=\"penalties_yds\"></td><td class=\"right iz\" data-stat=\"pen_fd\"></td><td class=\"right iz\" data-stat=\"drives\"></td><td class=\"right\" data-stat=\"score_pct\">3</td><td class=\"right\" data-stat=\"turnover_pct\">30</td><td class=\"right\" data-stat=\"start_avg\">8</td><td class=\"right\" data-stat=\"time_avg\">15</td><td class=\"right\" data-stat=\"plays_per_drive\">4</td><td class=\"right\" data-stat=\"yds_per_drive\">2</td><td class=\"right\" data-stat=\"points_avg\">3</td></tr>\n",
      "<tr data-row=\"3\"><th class=\"left\" data-stat=\"player\" scope=\"row\">Lg Rank Defense</th><td class=\"right\" data-stat=\"points\">15</td><td class=\"right\" data-stat=\"total_yards\">31</td><td class=\"right iz\" data-stat=\"plays_offense\"></td><td class=\"right iz\" data-stat=\"yds_per_play_offense\"></td><td class=\"right\" data-stat=\"turnovers\">3</td><td class=\"right\" data-stat=\"fumbles_lost\">7</td><td class=\"right\" data-stat=\"first_down\">32</td><td class=\"right iz\" data-stat=\"pass_cmp\"></td><td class=\"right\" data-stat=\"pass_att\">29</td><td class=\"right\" data-stat=\"pass_yds\">31</td><td class=\"right\" data-stat=\"pass_td\">22</td><td class=\"right\" data-stat=\"pass_int\">2</td><td class=\"right\" data-stat=\"pass_net_yds_per_att\">29</td><td class=\"right iz\" data-stat=\"pass_fd\"></td><td class=\"right\" data-stat=\"rush_att\">9</td><td class=\"right\" data-stat=\"rush_yds\">17</td><td class=\"right\" data-stat=\"rush_td\">19</td><td class=\"right\" data-stat=\"rush_yds_per_att\">24</td><td class=\"right iz\" data-stat=\"rush_fd\"></td><td class=\"right iz\" data-stat=\"penalties\"></td><td class=\"right iz\" data-stat=\"penalties_yds\"></td><td class=\"right iz\" data-stat=\"pen_fd\"></td><td class=\"right iz\" data-stat=\"drives\"></td><td class=\"right\" data-stat=\"score_pct\">17</td><td class=\"right\" data-stat=\"turnover_pct\">3</td><td class=\"right\" data-stat=\"start_avg\">2</td><td class=\"right\" data-stat=\"time_avg\">29</td><td class=\"right\" data-stat=\"plays_per_drive\">31</td><td class=\"right\" data-stat=\"yds_per_drive\">32</td><td class=\"right\" data-stat=\"points_avg\">21</td></tr>\n",
      "</tbody></table>]\n"
     ]
    }
   ],
   "source": [
    "team_links_practice = ['https://www.pro-football-reference.com/teams/nwe/2011.htm']\n",
    "team_links\n",
    "\n",
    "for i in range(len(team_links_practice)):\n",
    "    team_url = team_links_practice[i]\n",
    "    browser.visit(team_url)\n",
    "    \n",
    "    team_html = browser.html\n",
    "    team_soup = bs(team_html, \"html.parser\")\n",
    "    \n",
    "    overall_stats = team_soup.find_all(\"table\",id=\"team_stats\")\n",
    "    \n"
   ]
  },
  {
   "cell_type": "code",
   "execution_count": 225,
   "metadata": {},
   "outputs": [],
   "source": [
    "for r in overall_stats:\n",
    "    team_stats = r.find_all(\"td\",class_=\"right\")\n",
    "    team_pf = team_stats[0].text\n",
    "    team_yrds = team_stats[1].text\n",
    "    team_to = team_stats[4].text\n",
    "    team_fl = team_stats[5].text\n",
    "    team_fd = team_stats[6].text\n",
    "    team_cmp = team_stats[7].text\n",
    "    team_att= team_stats[8].text\n",
    "    team_pyards = team_stats[9].text\n",
    "    team_td = team_stats[10].text\n",
    "    team_int = team_stats[11].text\n",
    "    team_ratt = team_stats[14].text\n",
    "    team_ryards = team_stats[15].text\n",
    "    team_rtd = team_stats[16].text\n",
    "    team_pen = team_stats[19].text\n",
    "    team_penyards = team_stats[20].text\n",
    "    \n",
    "    team_dict = {\n",
    "        \"Points\": [int(team_pf)],\n",
    "        \"Yards\": [int(team_yrds)],\n",
    "        \"TO\": [int(team_to)],\n",
    "        \"FL\": [int(team_fl)],\n",
    "        \"FD\": [int(team_fd)],\n",
    "        \"Cmp\": [int(team_cmp)],\n",
    "        \"Att\": [int(team_att)],\n",
    "        \"PYards\": [int(team_pyards)],\n",
    "        \"PTD\": [int(team_td)],\n",
    "        \"INT\": [int(team_int)],\n",
    "        \"Ratt\": [int(team_ratt)],\n",
    "        \"RYards\": [int(team_ryards)],\n",
    "        \"RTD\": [int(team_rtd)],\n",
    "        \"Pen\": [int(team_pen)],\n",
    "        \"PenYds\": [int(team_penyards)]\n",
    "    }"
   ]
  },
  {
   "cell_type": "code",
   "execution_count": 227,
   "metadata": {},
   "outputs": [
    {
     "data": {
      "text/html": [
       "<div>\n",
       "<style scoped>\n",
       "    .dataframe tbody tr th:only-of-type {\n",
       "        vertical-align: middle;\n",
       "    }\n",
       "\n",
       "    .dataframe tbody tr th {\n",
       "        vertical-align: top;\n",
       "    }\n",
       "\n",
       "    .dataframe thead th {\n",
       "        text-align: right;\n",
       "    }\n",
       "</style>\n",
       "<table border=\"1\" class=\"dataframe\">\n",
       "  <thead>\n",
       "    <tr style=\"text-align: right;\">\n",
       "      <th></th>\n",
       "      <th>Points</th>\n",
       "      <th>Yards</th>\n",
       "      <th>TO</th>\n",
       "      <th>FL</th>\n",
       "      <th>FD</th>\n",
       "      <th>Cmp</th>\n",
       "      <th>Att</th>\n",
       "      <th>PYards</th>\n",
       "      <th>PTD</th>\n",
       "      <th>INT</th>\n",
       "      <th>Ratt</th>\n",
       "      <th>RYards</th>\n",
       "      <th>RTD</th>\n",
       "      <th>Pen</th>\n",
       "      <th>PenYds</th>\n",
       "    </tr>\n",
       "  </thead>\n",
       "  <tbody>\n",
       "    <tr>\n",
       "      <th>0</th>\n",
       "      <td>513</td>\n",
       "      <td>6848</td>\n",
       "      <td>17</td>\n",
       "      <td>5</td>\n",
       "      <td>399</td>\n",
       "      <td>402</td>\n",
       "      <td>612</td>\n",
       "      <td>5084</td>\n",
       "      <td>39</td>\n",
       "      <td>12</td>\n",
       "      <td>438</td>\n",
       "      <td>1764</td>\n",
       "      <td>18</td>\n",
       "      <td>87</td>\n",
       "      <td>815</td>\n",
       "    </tr>\n",
       "  </tbody>\n",
       "</table>\n",
       "</div>"
      ],
      "text/plain": [
       "   Points  Yards  TO  FL   FD  Cmp  Att  PYards  PTD  INT  Ratt  RYards  RTD  \\\n",
       "0     513   6848  17   5  399  402  612    5084   39   12   438    1764   18   \n",
       "\n",
       "   Pen  PenYds  \n",
       "0   87     815  "
      ]
     },
     "execution_count": 227,
     "metadata": {},
     "output_type": "execute_result"
    }
   ],
   "source": [
    "team_df = pd.DataFrame(team_dict)\n",
    "team_df"
   ]
  },
  {
   "cell_type": "code",
   "execution_count": null,
   "metadata": {},
   "outputs": [],
   "source": []
  }
 ],
 "metadata": {
  "kernelspec": {
   "display_name": "Python [conda env:PythonData] *",
   "language": "python",
   "name": "conda-env-PythonData-py"
  },
  "language_info": {
   "codemirror_mode": {
    "name": "ipython",
    "version": 3
   },
   "file_extension": ".py",
   "mimetype": "text/x-python",
   "name": "python",
   "nbconvert_exporter": "python",
   "pygments_lexer": "ipython3",
   "version": "3.6.10"
  }
 },
 "nbformat": 4,
 "nbformat_minor": 4
}
